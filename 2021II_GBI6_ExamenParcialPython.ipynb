{
 "cells": [
  {
   "cell_type": "markdown",
   "metadata": {},
   "source": [
    "<img src=\"https://www.ikiam.edu.ec/img/logo-ikiam-grey.png\" width=300 height=240 />\n",
    "\n",
    "# EXAMEN PARCIAL PYTHON\n",
    "    \n",
    "\n",
    "## GBI6-2021II: BIOINFORMÁTICA\n",
    "\n",
    "**Achote Tanguila, Karen Priscila** \n",
    "\n",
    "**25-02-2022**"
   ]
  },
  {
   "cell_type": "markdown",
   "metadata": {},
   "source": [
    "<font color='red'>NO AGREGUE NUEVAS CELDAS, UTILICE ÚNICAMENTE LAS QUE ESTÁN CREADAS</font>\n"
   ]
  },
  {
   "cell_type": "markdown",
   "metadata": {},
   "source": [
    "### REQUERIMIENTOS PARA EL EXAMEN\n",
    "Para este examen se requiere dos documentos: \n",
    "\n",
    "1. Archivo ```miningscience.py``` donde tendrá dos funciones:\n",
    "\n",
    "2. Archivo ```2021II_GBI6_ExamenParcialPython``` donde se llamará las funciones y se obtendrá resultados."
   ]
  },
  {
   "cell_type": "markdown",
   "metadata": {},
   "source": [
    "## Ejercicio 1 [2 puntos]\n",
    "Cree el archivo ```miningscience.py``` con las siguientes dosfunciones:\n",
    "    \n",
    "i. ```download_pubmed```: para descargar la data de PubMed utilizando el **ENTREZ** de Biopython. El parámetro de entrada para la función es el ```keyword```. \n",
    "    \n",
    "ii. ```mining_pubs```: esta función debe utilizar el módulo **re** y utilizar el párametro ```tipo``` para realizar lo siguiente:\n",
    "        \n",
    "* Si el tipo es \"DP\" recupera el año de publicación del artículo. El retorno es un *dataframe* con el **PMID** y el **DP_year**.\n",
    "      \n",
    "* Si el tipo es \"AU\" recupera el número de autores por **PMID**. El retorno es un *dataframe* con el **PMID** y el **num_auth**. \n",
    "      \n",
    "* Si el tipo es \"AD\" recupera el conteo de autores por país. El retorno es un *dataframe* con el **country** y el **num_auth**. \n",
    "\n",
    "* *Puede utilizar un ```if``` dentro de la función.* \n",
    "\n",
    "* *Cree un docstring para cada función.* \n",
    "\n",
    "Luego de crear las funciones, cargue el módulo ```miningscience``` como ```msc``` e imprima docstring de cada función.\n",
    "\n",
    "\n"
   ]
  },
  {
   "cell_type": "code",
   "execution_count": 1,
   "metadata": {},
   "outputs": [
    {
     "name": "stdout",
     "output_type": "stream",
     "text": [
      "Help on function download_pubmed in module __main__:\n",
      "\n",
      "download_pubmed(keyword)\n",
      "    muestra como resultado en una lista de los id de la busqueda en pubmed.\n",
      "\n",
      "Help on function mining_pubs in module __main__:\n",
      "\n",
      "mining_pubs(tipo)\n",
      "    Función que pide como entrada tres variables que pueden ser \"DP\", \"AU\" y \"AD\" y de resultado muestra una dataframe\n",
      "\n"
     ]
    }
   ],
   "source": [
    "# Escriba aquí su código para el ejercicio 1\n",
    "def download_pubmed (keyword):\n",
    "    \"\"\"\n",
    "    Los resultados de los id se muestran a continuación obtenidos de Pubmed.\n",
    "    \"\"\"\n",
    "    from Bio import Entrez\n",
    "    from Bio import SeqIO\n",
    "    from Bio import GenBank \n",
    "    Entrez.email = 'karen.achote@est.ikiam.edu.ec'\n",
    "    handle = Entrez.esearch(db='pubmed',\n",
    "                        sort='relevance',\n",
    "                        retmax='200',\n",
    "                        retmode='xml',\n",
    "                        term=keyword)\n",
    "    results = Entrez.read(handle)\n",
    "    id_list = results[\"IdList\"]\n",
    "    ids = ','.join(id_list)\n",
    "    Entrez.email = 'karen.achote@est.ikiam.edu.ec'\n",
    "    handle = Entrez.efetch(db='pubmed',\n",
    "                       retmode='xml',\n",
    "                       id=ids)\n",
    "    lista_id = ids.split(\",\")\n",
    "    return (lista_id) \n",
    "\n",
    "\n",
    "import csv \n",
    "import re\n",
    "import pandas as pd \n",
    "from collections import Counter\n",
    "\n",
    "def mining_pubs(tipo):\n",
    "    \"\"\"\n",
    "      Uso deparámetro tipo \"DP\", \"AU\" o \"AD\" en la función que da como resultado una dataframe con contenidos diferentes.\n",
    "     \n",
    "    \"\"\"\n",
    "    with open(\"data/pubmed-EcuadorGen-set.txt\", errors=\"ignore\") as f: \n",
    "        texto = f.read() \n",
    "    if tipo == \"DP\":\n",
    "        PMID = re.findall(\"PMID- (\\d*)\", texto) \n",
    "        year = re.findall(\"DP\\s{2}-\\s(\\d{4})\", texto)\n",
    "        pmid_y = pd.DataFrame()\n",
    "        pmid_y[\"PMID\"] = PMID\n",
    "        pmid_y[\"Año de publicación\"] = year\n",
    "        return (pmid_y)\n",
    "    elif tipo == \"AU\": \n",
    "        PMID = re.findall(\"PMID- (\\d*)\", texto) \n",
    "        autores = texto.split(\"PMID- \")\n",
    "        autores.pop(0)\n",
    "        num_autores = []\n",
    "        for i in range(len(autores)):\n",
    "            numero = re.findall(\"AU -\", autores[i])\n",
    "            n = (len(numero))\n",
    "            num_autores.append(n)\n",
    "        pmid_a = pd.DataFrame()\n",
    "        pmid_a[\"PMID\"] = PMID \n",
    "        pmid_a[\"Numero de autores\"] = num_autores\n",
    "        return (pmid_a)\n",
    "    elif tipo == \"AD\": \n",
    "        texto = re.sub(r\" [A-Z]{1}\\.\",\"\", texto)\n",
    "        texto = re.sub(r\"Av\\.\",\"\", texto)\n",
    "        texto = re.sub(r\"Vic\\.\",\"\", texto)\n",
    "        texto = re.sub(r\"Tas\\.\",\"\", texto)\n",
    "        AD = texto.split(\"AD  - \")\n",
    "        n_paises = []\n",
    "        for i in range(len(AD)): \n",
    "            pais = re.findall(\"\\S, ([A-Za-z]*)\\.\", AD[i])\n",
    "            if not pais == []: \n",
    "                if not len(pais) >= 2:  \n",
    "                    if re.findall(\"^[A-Z]\", pais[0]): \n",
    "                        n_paises.append(pais[0])\n",
    "        conteo=Counter(n_paises)\n",
    "        resultado = {}\n",
    "        for clave in conteo:\n",
    "            valor = conteo[clave]\n",
    "            if valor != 1: \n",
    "                resultado[clave] = valor \n",
    "        veces_pais = pd.DataFrame()\n",
    "        veces_pais[\"pais\"] = resultado.keys()\n",
    "        veces_pais[\"numero de autores\"] = resultado.values()\n",
    "        return (veces_pais)\n",
    "\n",
    "import miningscience as msc \n",
    "help(download_pubmed)\n",
    "help(mining_pubs)\n"
   ]
  },
  {
   "cell_type": "markdown",
   "metadata": {},
   "source": [
    "\n",
    "## Ejercicio 2 [1 punto]\n",
    "\n",
    "\n",
    "Utilice la función ```download_pubmed``` para descargar la data con el keyword ```Ecuador proteomics``` e imprima lo siguiente: \n",
    "\n",
    "```python\n",
    "'El número de artículos es: xx' # xx corresponde al número de artículos recuperados\n",
    "\n",
    "'El PMID del primer artículo es: xxxxxxxx' # xxxxxxxx corresponde al ID del artículo en PUDMED\n",
    "\n",
    "```"
   ]
  },
  {
   "cell_type": "code",
   "execution_count": 2,
   "metadata": {},
   "outputs": [
    {
     "name": "stdout",
     "output_type": "stream",
     "text": [
      "El numero de articulos es: 193\n",
      "El PMID del primer articulo es: 31822297\n"
     ]
    }
   ],
   "source": [
    "# Escriba aquí su código para el ejercicio 2\n",
    "journals = download_pubmed(\"Ecuador Genomics\")\n",
    "\n",
    "print (\"El numero de articulos es:\", len(journals)) \n",
    "\n",
    "print (\"El PMID del primer articulo es:\", journals[0])\n"
   ]
  },
  {
   "cell_type": "markdown",
   "metadata": {},
   "source": [
    "## Ejercicio 3 [1 punto]\n",
    "\n",
    "Utilice la función ```mining_pubs``` para crear los siguientes dataframes: \n",
    "\n",
    "* pub_year\n",
    "\n",
    "* pub_authors\n",
    "\n",
    "* coutries\n",
    "\n",
    "Muestre los dos primeros y los dos últimos registros de cada dataframe. "
   ]
  },
  {
   "cell_type": "code",
   "execution_count": 3,
   "metadata": {},
   "outputs": [
    {
     "name": "stdout",
     "output_type": "stream",
     "text": [
      "       PMID Año de publicación\n",
      "0  19844075               2010\n",
      "1  31822297               2019\n",
      "         PMID Año de publicación\n",
      "570  18073295               2008\n",
      "571  12911709               2003\n",
      "572  19439189               2009\n",
      "573   9497032               1997\n",
      "574  24997839               2014\n",
      "..        ...                ...\n",
      "823  32917887               2020\n",
      "824  33634602               2021\n",
      "825  28785301               2017\n",
      "826  27429642               2016\n",
      "827  31891233               2020\n",
      "\n",
      "[258 rows x 2 columns]\n",
      "       PMID  Numero de autores\n",
      "0  19844075                  2\n",
      "1  31822297                  3\n",
      "Empty DataFrame\n",
      "Columns: [PMID, Numero de autores]\n",
      "Index: []\n",
      "      pais  numero de autores\n",
      "0  Ecuador               1205\n",
      "1  Belgium                 90\n",
      "         pais  numero de autores\n",
      "100  Bulgaria                  4\n",
      "101  HarvardH                  4\n",
      "102        US                  5\n",
      "103  Botswana                  3\n",
      "104   Croatia                  2\n",
      "105   Tunisia                  2\n",
      "106  Mongolia                  2\n",
      "107   Albania                  2\n",
      "108   Belarus                  2\n",
      "109    Brunei                  2\n",
      "110   Lebanon                  2\n",
      "111    Zambia                  2\n",
      "112    Jordan                  2\n",
      "113    Latvia                  2\n",
      "114   Vietnam                  3\n",
      "115     Korea                  2\n"
     ]
    }
   ],
   "source": [
    "\n",
    "import miningscience as msc\n",
    "pub_año = msc.mining_pubs(\"DP\")\n",
    "print (pub_año.iloc[0:2])\n",
    "print (pub_año.iloc[570:])\n",
    "pub_autor = msc.mining_pubs(\"AU\")\n",
    "print (pub_autor.iloc[0:2])\n",
    "print (pub_autor.iloc[5700:])\n",
    "countries = msc.mining_pubs(\"AD\")\n",
    "print (countries.iloc[0:2])\n",
    "print (countries.iloc[100:])"
   ]
  },
  {
   "cell_type": "markdown",
   "metadata": {
    "tags": []
   },
   "source": [
    "## Ejercicio 4 [2 puntos]\n",
    "\n",
    "Realice la visualización de los datos del ejercicio 3. \n",
    "\n",
    "* ```pubyear```: utilizando el conteo artículos por año, calcule la media y la desviación estandar (asumiendo que la distribución es normal). Realice un gráfico de la distribución normal de sus datos. Coloque el título, leyenda de los ejes \"x\" e \"y\", y la leyenda de la curva (utilice las expresiones matemáticas tipos latex de ser necesario). \n",
    "\n",
    "* ```pub_authors```: realice un boxplot del conteo de autores por artículo. Coloque las leyendas adecuadas para cada eje y el título.  \n",
    "\n",
    "* ```countries```: realice una nube de puntos (adaptación de su tarea), resalte al menos 3 países con flechas. Coloque las leyendas adecuadas para cada eje y el título. \n"
   ]
  },
  {
   "cell_type": "code",
   "execution_count": 4,
   "metadata": {},
   "outputs": [
    {
     "name": "stdout",
     "output_type": "stream",
     "text": [
      "La media es:  2014.87077294686\n",
      "La desviación estandar es:  6.804327940706898\n"
     ]
    },
    {
     "data": {
      "text/plain": [
       "Text(0, 0.5, 'Repeticiones')"
      ]
     },
     "execution_count": 4,
     "metadata": {},
     "output_type": "execute_result"
    },
    {
     "data": {
      "image/png": "[encoded data removed]",
      "text/plain": [
       "<Figure size 432x288 with 1 Axes>"
      ]
     },
     "metadata": {
      "needs_background": "light"
     },
     "output_type": "display_data"
    }
   ],
   "source": [
    "# Escriba aquí su código para el ejercicio 4\n",
    "import pandas as pd \n",
    "import matplotlib.pyplot as plot\n",
    "from collections import Counter\n",
    "pub_año[\"Año de publicación\"] = pub_año[\"Año de publicación\"].astype(\"int\")\n",
    "mean_py = pub_año[\"Año de publicación\"].mean()\n",
    "sd_py = pub_año[\"Año de publicación\"].std()\n",
    "print (\"La media es: \", mean_py)\n",
    "print (\"La desviación estandar es: \", sd_py)\n",
    "#print (pub_year[\"Año de publicación\"])\n",
    "intervalos = range(min(pub_año[\"Año de publicación\"]), max(pub_año[\"Año de publicación\"]))\n",
    "plot.hist(x=pub_año[\"Año de publicación\"], color = \"green\")\n",
    "plot.title(\"Articulos por año\")\n",
    "plot.xlabel(\"Año\")\n",
    "plot.ylabel(\"Repeticiones\")\n",
    "\n"
   ]
  },
  {
   "cell_type": "code",
   "execution_count": 5,
   "metadata": {},
   "outputs": [
    {
     "name": "stdout",
     "output_type": "stream",
     "text": [
      "         PMID  Numero de autores\n",
      "0    19844075                  2\n",
      "1    31822297                  3\n",
      "2    29632024                 33\n",
      "3    32623267                 15\n",
      "4    27577878                 93\n",
      "..        ...                ...\n",
      "823  32917887                 30\n",
      "824  33634602                102\n",
      "825  28785301                173\n",
      "826  27429642                173\n",
      "827  31891233                728\n",
      "\n",
      "[828 rows x 2 columns]\n"
     ]
    },
    {
     "data": {
      "image/png": "[encoded data removed]",
      "text/plain": [
       "<Figure size 432x288 with 1 Axes>"
      ]
     },
     "metadata": {
      "needs_background": "light"
     },
     "output_type": "display_data"
    }
   ],
   "source": [
    "boxplot = pub_autor[0:827].boxplot(column=[\"Numero de autores\"])\n",
    "plot.title(\"Numero de autores por articulos\")\n",
    "plot.ylabel(\"Frecuencia\")\n",
    "print (pub_autor)"
   ]
  },
  {
   "cell_type": "code",
   "execution_count": 6,
   "metadata": {},
   "outputs": [
    {
     "data": {
      "image/png": "[encoded data removed]",
      "text/plain": [
       "<Figure size 1296x864 with 2 Axes>"
      ]
     },
     "metadata": {
      "needs_background": "light"
     },
     "output_type": "display_data"
    }
   ],
   "source": [
    "countries = countries.sort_values(\"numero de autores\")\n",
    "max_pais = (countries[104:])\n",
    "\n",
    "countries_lat = [39.399872, 4.570868, 41.87194, 46.227638, 51.165691, 55.378051, \n",
    "                40.463667, -14.235004, 37.09024, -1.831239  ] \n",
    "                 \n",
    "countries_long = [-8.224454, -74.297333, 12.56738, 2.213749, 10.451526, -3.435973,  \n",
    "                 -3.74922, -51.92528, -95.712891, -78.183406]\n",
    "repeticiones = [143, 173, 177, 221, 253, 316, 499, 501, 784, 1206]\n",
    "\n",
    "import matplotlib.pyplot as plot\n",
    "%matplotlib inline\n",
    "\n",
    "plot.scatter(countries_lat, countries_long, repeticiones) \n",
    "plot.colorbar()\n",
    "ard = dict(arrowstyle=\"->\")\n",
    "plot.annotate(\"Portugal\", xy= (39.399872, -8.224454), \n",
    "            xytext = (40, -20), arrowprops = ard)\n",
    "plot.annotate(\"italia\", xy = (41.87194, 12.56738), \n",
    "             xytext = (10,0), arrowprops = ard) \n",
    "plot.annotate(\"Ecuador\", xy= (-1.831239, -78.183406), \n",
    "            xytext = (-10, -20), arrowprops = ard)\n",
    "\n",
    "params = plot.gcf()\n",
    "plSize = params.get_size_inches()\n",
    "params.set_size_inches( (plSize[0] * 3, plSize[1] * 3) )\n",
    "plot.show()"
   ]
  },
  {
   "cell_type": "markdown",
   "metadata": {},
   "source": [
    "## Ejercicio 5 [1 punto]\n",
    "\n",
    "Interprete los resultados del **ejercicio 4**"
   ]
  },
  {
   "cell_type": "markdown",
   "metadata": {},
   "source": [
    "### Escriba la respuesta del ejercicio 5\n",
    "\n",
    "La gráfica muestra una distribución sesgada hacia la derecha, puesto a que hay una mayor distibución de los datos o número de publicaciones publicaciones alrededor del año 2014, el mismo que fue calculado a través de la media dando un valor de 2014.87077294686. Se observa que existe una variacion de los datos dando como resultado una desviación estándar de 6.804327940706898. \n",
    "La nube de puntos muestra la la cantidad de autores que han trabajado. Los paises señalados son Ecuador con la la maypr cantidad autores, seguido de Itala y luego Portugal, ubicados en sus respectivas locatizaciones geográficas. "
   ]
  },
  {
   "cell_type": "markdown",
   "metadata": {},
   "source": [
    "## Ejercicio 6 [2 puntos]\n",
    "\n",
    "Para algún gen de interés, realice lo siguiente: \n",
    "\n",
    "1. Una búsqueda en la página del [NCBI nucleotide](https://www.ncbi.nlm.nih.gov/nucleotide/).\n",
    "\n",
    "2. Descargue el ```Accession List``` de su búsqueda.\n",
    "\n",
    "3. Cargue el ```Accession List``` en este notebook y haga una descarga de la data tipo ```genbank``` utilizando los diez primeros IDs de accesión. \n",
    "\n",
    "4. Arme un árbol filogenético para los resultados del paso 3.\n",
    "\n",
    "5. Interprete el árbol del paso 4. "
   ]
  },
  {
   "cell_type": "code",
   "execution_count": 8,
   "metadata": {},
   "outputs": [
    {
     "name": "stdout",
     "output_type": "stream",
     "text": [
      " , lcl|KU696388.2_cds_AOO96936.1_9\n",
      " |\n",
      " , lcl|MT796489.1_cds_QQJ94359.1_9\n",
      " |\n",
      " , lcl|MH393628.1_cds_QUE27302.1_9\n",
      " |\n",
      " , lcl|MH393630.1_cds_QUE27328.1_9\n",
      " |\n",
      " , lcl|KU696391.2_cds_AOO96975.1_9\n",
      " |\n",
      " | lcl|KU696393.2_cds_AOO97001.1_9\n",
      " |\n",
      " | lcl|MH393629.1_cds_QUE27315.1_9\n",
      " |\n",
      " |     , lcl|MH393631.1_cds_QUE27337.1_5\n",
      " |     |\n",
      " |     , lcl|MH393629.1_cds_QUE27311.1_5\n",
      " |     |\n",
      " |     | lcl|MH393630.1_cds_QUE27324.1_5\n",
      " |     |\n",
      " |     , lcl|MH393628.1_cds_QUE27298.1_5\n",
      " |     |\n",
      " |     , lcl|KU696391.2_cds_AOO96971.1_5\n",
      " |     |\n",
      " |     | lcl|KU696393.2_cds_AOO96997.1_5\n",
      " |     |\n",
      " |   __| lcl|KU696388.2_cds_AOO96932.1_5\n",
      " |  |  |\n",
      " |  |  | lcl|MT796489.1_cds_QQJ94355.1_5\n",
      " |  |  |\n",
      " |  |  | lcl|KT901460.1_cds_ALT55530.1_5\n",
      " |  |\n",
      " |  |          , lcl|MH393629.1_cds_QUE27310.1_4\n",
      " |  |          |\n",
      " |  |          | lcl|MH393630.1_cds_QUE27323.1_4\n",
      " |  |          |\n",
      " |  |          | lcl|MH393631.1_cds_QUE27336.1_4\n",
      " |  |          |\n",
      " |  |          | lcl|MH393628.1_cds_QUE27297.1_4\n",
      " |  |          |\n",
      " |  |          , lcl|KU696388.2_cds_AOO96931.1_4\n",
      " |  |          |\n",
      " |  |          | lcl|MT796489.1_cds_QQJ94356.1_4\n",
      " |  |   _______|\n",
      " |  |  |       , lcl|KU696391.2_cds_AOO96970.1_4\n",
      " |  |  |       |\n",
      " |  |  |       | lcl|KU696393.2_cds_AOO96996.1_4\n",
      " |  |  |       |\n",
      " |  |  |       | lcl|KT901460.1_cds_ALT55529.1_4\n",
      " |  |  |\n",
      " |  |  |       , lcl|MH393630.1_cds_QUE27325.1_6\n",
      " |  |  |      ,|\n",
      " |  |  |      |, lcl|KU696391.2_cds_AOO96972.1_6\n",
      " |  |  |      ||\n",
      " |  |  |      || lcl|MH393629.1_cds_QUE27312.1_6\n",
      " |  |  |      |\n",
      " |  |  |      |, lcl|MH393631.1_cds_QUE27338.1_6\n",
      " |  |  |      ||\n",
      " |  |  |      |, lcl|KU696393.2_cds_AOO96998.1_6\n",
      " |  |  |      ||\n",
      " |  |  |  ____|| lcl|MH393628.1_cds_QUE27299.1_6\n",
      " |  |  | |    ||\n",
      " |  |  | |    |, lcl|KU696388.2_cds_AOO96933.1_6\n",
      " |  |  | |    ||\n",
      " |  |  | |    || lcl|MT796489.1_cds_QQJ94353.1_6\n",
      " |  |  | |    |\n",
      " |  |  | |    | lcl|KT901460.1_cds_ALT55531.1_6\n",
      " |  |  | |\n",
      " |  |  | |           , lcl|MT796489.1_cds_QQJ94354.1_1\n",
      " |  |  | |          ,|\n",
      " |  |  | |          || lcl|KU696388.2_cds_AOO96928.1_1\n",
      " |  | ,| |          |\n",
      " |  | || |          |, lcl|KU696391.2_cds_AOO96967.1_1\n",
      " |  | || |          ||\n",
      " |  | || |          || lcl|KU696393.2_cds_AOO96993.1_1\n",
      " |  | || |          |\n",
      " |  | || |          , lcl|MH393629.1_cds_QUE27307.1_1\n",
      " |  | || |          |\n",
      " |  | || |          | lcl|MH393630.1_cds_QUE27320.1_1\n",
      " |  | || |   _______|\n",
      " |  | || |  |       , lcl|MH393631.1_cds_QUE27333.1_1\n",
      " |  | || |  |       |\n",
      " |  | || |  |       | lcl|MH393628.1_cds_QUE27294.1_1\n",
      " |  | || |  |       |\n",
      " |  | || |  |       | lcl|KT901460.1_cds_ALT55526.1_1\n",
      " |  | || |  |\n",
      " |  | || |  |          , lcl|MT796489.1_cds_QQJ94364.1_2\n",
      " |  | || |  |          |\n",
      " |  | || |  |          , lcl|KU696391.2_cds_AOO96968.1_2\n",
      " |  | || |  |          |\n",
      " |  | || |  |          | lcl|KU696393.2_cds_AOO96994.1_2\n",
      " |  | || |  |          |\n",
      " |  | || |  |          , lcl|MH393628.1_cds_QUE27295.1_2\n",
      " |  | || |  |          |\n",
      " |  | || |  |          , lcl|MH393629.1_cds_QUE27308.1_2\n",
      " |  | || |  |          |\n",
      " |  | || |__| _________| lcl|MH393630.1_cds_QUE27321.1_2\n",
      " |  | || |  ||         |\n",
      " |  | || |  ||         | lcl|MH393631.1_cds_QUE27334.1_2\n",
      " |  | || |  ||         |\n",
      " |  | ||_|  ||         | lcl|KU696388.2_cds_AOO96929.1_2\n",
      " |  | |  |  ||         |\n",
      " |__| |  |  ||         | lcl|KT901460.1_cds_ALT55527.1_2\n",
      " |  | |  |  ||\n",
      " |  | |  |  ||           , lcl|MH393628.1_cds_QUE27306.1_13\n",
      " |  | |  |  ||           |\n",
      " |  | |  |  ||           | lcl|MH393631.1_cds_QUE27345.1_13\n",
      " |  | |  |  ||           |\n",
      " |  | |  |  ||           |, lcl|MH393629.1_cds_QUE27319.1_13\n",
      " |  | |  |  ||           ||\n",
      " |  | |  |  ||           || lcl|MH393630.1_cds_QUE27332.1_13\n",
      " |  | |  |  ||           |\n",
      " |  | |  |  ||           |, lcl|KU696391.2_cds_AOO96979.1_13\n",
      " |  | |  |  ||           ||\n",
      " |  | |  |   |           ,| lcl|KU696393.2_cds_AOO97004.1_13\n",
      " |  | |  |   |  _________||\n",
      " |  | |  |   | |         || lcl|KU696388.2_cds_AOO96940.1_13\n",
      " |  | |  |   | |         |\n",
      "_|  | |  |   | |         | lcl|MT796489.1_cds_QQJ94363.1_13\n",
      " |  | |  |   | |         |\n",
      " |  | |  |   | |         | lcl|KT901460.1_cds_ALT55538.1_13\n",
      " |  | |  |   | |\n",
      " |  | |  |   | |              , lcl|KU696393.2_cds_AOR16346.1_10\n",
      " |  | |  |   | |              |\n",
      " |  | |  |   | |              | lcl|MH393629.1_cds_QUE27316.1_10\n",
      " |  | |  |   | |              |\n",
      " |  | |  |   | |              , lcl|MH393628.1_cds_QUE27303.1_10\n",
      " |  | |  |   | |              |\n",
      " |  | |  |   | |              | lcl|MH393630.1_cds_QUE27329.1_10\n",
      " |  | |  |   | |              |\n",
      " |  | |  |   |_|              , lcl|MH393631.1_cds_QUE27342.1_10\n",
      " |  | |  |     |              |\n",
      " |  | |  |     |           ___, lcl|KU696388.2_cds_AOO96937.1_10\n",
      " |  | |  |     |          |   |\n",
      " |  | |  |     |          |   | lcl|MT796489.1_cds_QQJ94360.1_10\n",
      " |  | |  |     | _________|   |\n",
      " |  | |  |     ||         |   | lcl|KT901460.1_cds_ALT55535.1_10\n",
      " |  |,|  |     ||         |\n",
      " |  |||  |     ||         |____ lcl|KU696391.2_cds_AOO96976.2_10\n",
      " |  |||  |     ||\n",
      " |  |||  |     ||                       , lcl|KU696391.2_cds_AOO96977.1_11\n",
      " |  |||  |     ||                       |\n",
      " |  |||  |     ||                       | lcl|KU696393.2_cds_AOO97002.1_11\n",
      " |  |||  |     ||                       |\n",
      " |  |||  |     ||                       | lcl|MH393628.1_cds_QUE27304.1_11\n",
      " |  |||  |     ||                       |\n",
      " |  |||  |     ||                       , lcl|MH393629.1_cds_QUE27317.1_11\n",
      " |  |||  |      |                       |\n",
      " |  |||  |      |                       | lcl|MH393630.1_cds_QUE27330.1_11\n",
      " |  |||  |      |                       |\n",
      " |  |||  |      |                       | lcl|KU696388.2_cds_AOO96938.1_11\n",
      " |  |||  |      |                       |\n",
      " |  |||  |      |                       | lcl|MH393631.1_cds_QUE27343.1_11\n",
      " |  |||  |      |   ____________________|\n",
      " |  |||  |      |  |                    | lcl|MT796489.1_cds_QQJ94361.1_11\n",
      " |  |||  |      |  |                    |\n",
      " |  |||  |      |  |                    | lcl|KT901460.1_cds_ALT55536.1_11\n",
      " |  |||  |      |__|\n",
      " |  |||  |         |              , lcl|KT901460.1_cds_ALT55528.1_3\n",
      " |  |||  |         |              |\n",
      " |  |||  |         |              |, lcl|MH393628.1_cds_QUE27296.1_3\n",
      " |  |||  |         |              ||\n",
      " |  |||  |         |______________|| lcl|MH393631.1_cds_QUE27335.1_3\n",
      " |  |||  |                        ||\n",
      " |  |||  |                        |, lcl|MH393629.1_cds_QUE27309.1_3\n",
      " |  |||  |                        ||\n",
      " |  |||  |                        || lcl|MH393630.1_cds_QUE27322.1_3\n",
      " |  |||  |                        ||\n",
      " |  |||  |                         , lcl|MT796489.1_cds_QQJ94365.1_3\n",
      " |  |||  |                         |\n",
      " |  |||  |                         , lcl|KU696391.2_cds_AOO96969.1_3\n",
      " |  |||  |                         |\n",
      " |  |||  |                         | lcl|KU696393.2_cds_AOO96995.1_3\n",
      " |  |||  |                         |\n",
      " |  |||  |                         | lcl|KU696388.2_cds_AOO96930.1_3\n",
      " |  |||  |\n",
      " |  |||  |       , lcl|MH393631.1_cds_QUE27339.1_7\n",
      " |  |||  |       |\n",
      " |  |||  |       , lcl|KU696388.2_cds_AOO96934.1_7\n",
      " |  |||  |       |\n",
      " |   ||  |       | lcl|MT796489.1_cds_QQJ94357.1_7\n",
      " |   ||  |       |\n",
      " |   ||  |       , lcl|KU696391.2_cds_AOO96973.1_7\n",
      " |   ||  |       |\n",
      " |   ||  |       | lcl|MH393629.1_cds_QUE27313.1_7\n",
      " |   ||  |       |\n",
      " |   ||  |_______, lcl|KU696393.2_cds_AOO96999.1_7\n",
      " |   ||          |\n",
      " |   ||          | lcl|MH393628.1_cds_QUE27300.1_7\n",
      " |   ||          |\n",
      " |   ||          | lcl|MH393630.1_cds_QUE27326.1_7\n",
      " |   ||          |\n",
      " |   ||          | lcl|KT901460.1_cds_ALT55532.1_7\n",
      " |   ||\n",
      " |   ||     , lcl|MT796489.1_cds_QQJ94362.1_12\n",
      " |   ||     |\n",
      " |   ||     , lcl|KU696391.2_cds_AOO96978.1_12\n",
      " |   ||     |\n",
      " |   ||     , lcl|KU696393.2_cds_AOO97003.1_12\n",
      " |   ||     |\n",
      " |   ||     | lcl|MH393628.1_cds_QUE27305.1_12\n",
      " |   ||     |\n",
      " |   ||     | lcl|MH393629.1_cds_QUE27318.1_12\n",
      " |   ||_____|\n",
      " |   |      , lcl|KU696388.2_cds_AOO96939.1_12\n",
      " |   |      |\n",
      " |   |      | lcl|MH393630.1_cds_QUE27331.1_12\n",
      " |   |      |\n",
      " |   |      | lcl|MH393631.1_cds_QUE27344.1_12\n",
      " |   |      |\n",
      " |   |      | lcl|KT901460.1_cds_ALT55537.1_12\n",
      " |   |\n",
      " |   |    , lcl|KU696391.2_cds_AOO96974.1_8\n",
      " |   |    |\n",
      " |   |    | lcl|KU696393.2_cds_AOO97000.1_8\n",
      " |   |    |\n",
      " |   |    | lcl|MH393628.1_cds_QUE27301.1_8\n",
      " |   |    |\n",
      " |   |    , lcl|KU696388.2_cds_AOO96935.1_8\n",
      " |   |    |\n",
      " |   |    | lcl|MT796489.1_cds_QQJ94358.1_8\n",
      " |   |    |\n",
      " |   |____, lcl|MH393629.1_cds_QUE27314.1_8\n",
      " |        |\n",
      " |        , lcl|MH393630.1_cds_QUE27327.1_8\n",
      " |        |\n",
      " |        | lcl|MH393631.1_cds_QUE27340.1_8\n",
      " |        |\n",
      " |        | lcl|KT901460.1_cds_ALT55533.1_8\n",
      " |\n",
      " | lcl|KT901460.1_cds_ALT55534.1_9\n",
      " |\n",
      " | lcl|MH393631.1_cds_QUE27341.1_9\n",
      "\n"
     ]
    }
   ],
   "source": [
    "# Escriba aquí su código para el ejercicio 6\n",
    "\n",
    "from Bio import Phylo\n",
    "from Bio import SeqIO\n",
    "from Bio import AlignIO\n",
    "from Bio.Phylo.TreeConstruction import DistanceCalculator\n",
    "from Bio.Phylo.TreeConstruction import DistanceTreeConstructor\n",
    "from Bio import Entrez\n",
    "from Bio import SeqIO\n",
    "from Bio import GenBank \n",
    "import csv \n",
    "import re \n",
    "\n",
    "with open(\"data/sequence.seq\", errors=\"ignore\") as file: \n",
    "    texto_1 = file.read()\n",
    "accession = texto_1.split(\"\\n\")\n",
    "Entrez.email=\"karen.achote@est.ikiam.edu.ec\"\n",
    "archivo = open(\"data/sequence.txt\", \"w\")\n",
    "for i in accession[0:10]: \n",
    "    handle=Entrez.efetch(db=\"nuccore\", id=i, rettype=\"fasta\")\n",
    "    archivo.write(handle.read())\n",
    "with open(\"data/alineacion.txt\", \"r\") as f: \n",
    "    alignment = AlignIO.read(f, \"clustal\")\n",
    "calculator = DistanceCalculator(\"identity\")\n",
    "distance_matriz = calculator.get_distance(alignment)\n",
    "constructor = DistanceTreeConstructor(calculator)\n",
    "tree = constructor.build_tree(alignment)\n",
    "tree.rooted = True \n",
    "Phylo.draw_ascii(tree)"
   ]
  },
  {
   "cell_type": "markdown",
   "metadata": {},
   "source": [
    "**Escriba aquí la interpretación del árbol**\n",
    "De las 10 cepas más cercanas al ancentro común, sólo una se observa su evoulución que da como resultado la diversificacion de varias sepas. Las cepas más actuales son 9 que van desde KU696391.2_cds_AOO96977.1_11 hasta lcl|KT901460.1_cds_ALT55536.1_11, mismos que convergen con un ancestro común, y que además es el ancentro más común de otras cepas como KT901460.1_cds_ALT55528.1_3 hasta KU696388.2_cds_AOO96930.1_3. "
   ]
  },
  {
   "cell_type": "markdown",
   "metadata": {},
   "source": [
    "## Ejercicio 7 [1 punto]\n",
    "\n",
    "\n",
    "1. Cree en GitHub un repositorio de nombre ```GBI6_ExamenPython```. \n",
    "2. Cree un archivo ```Readme.md``` que debe tener lo siguiente: \n",
    "- Datos personales\n",
    "- Características del computador\n",
    "- Versión de Python/Anaconda y de cada uno de los módulos/paquetes y utilizados\n",
    "- Explicación de la data utilizada\n",
    "\n",
    "3. Cree un directorio de nombre ```data``` donde deben estar guardado la data utilizada \n",
    "4. Realice al menos 1 control de la versión (commits) por cada ejercicio (del 1 al 6), con un mensaje que inicie como: \n",
    "\n",
    "```sh \n",
    "Carlitos Alimaña ha realizado .....  \n",
    "```"
   ]
  }
 ],
 "metadata": {
  "kernelspec": {
   "display_name": "Python 3 (ipykernel)",
   "language": "python",
   "name": "python3"
  },
  "language_info": {
   "codemirror_mode": {
    "name": "ipython",
    "version": 3
   },
   "file_extension": ".py",
   "mimetype": "text/x-python",
   "name": "python",
   "nbconvert_exporter": "python",
   "pygments_lexer": "ipython3",
   "version": "3.9.7"
  },
  "latex_envs": {
   "LaTeX_envs_menu_present": true,
   "autoclose": false,
   "autocomplete": true,
   "bibliofile": "biblio.bib",
   "cite_by": "apalike",
   "current_citInitial": 1,
   "eqLabelWithNumbers": true,
   "eqNumInitial": 1,
   "hotkeys": {
    "equation": "Ctrl-E",
    "itemize": "Ctrl-I"
   },
   "labels_anchors": false,
   "latex_user_defs": false,
   "report_style_numbering": false,
   "user_envs_cfg": false
  },
  "toc": {
   "base_numbering": 1,
   "nav_menu": {},
   "number_sections": true,
   "sideBar": false,
   "skip_h1_title": false,
   "title_cell": "Table of Contents",
   "title_sidebar": "Contents",
   "toc_cell": false,
   "toc_position": {
    "height": "1152.67px",
    "left": "41px",
    "top": "110px",
    "width": "253.458px"
   },
   "toc_section_display": true,
   "toc_window_display": false
  },
  "varInspector": {
   "cols": {
    "lenName": 16,
    "lenType": 16,
    "lenVar": 40
   },
   "kernels_config": {
    "python": {
     "delete_cmd_postfix": "",
     "delete_cmd_prefix": "del ",
     "library": "var_list.py",
     "varRefreshCmd": "print(var_dic_list())"
    },
    "r": {
     "delete_cmd_postfix": ") ",
     "delete_cmd_prefix": "rm(",
     "library": "var_list.r",
     "varRefreshCmd": "cat(var_dic_list()) "
    }
   },
   "types_to_exclude": [
    "module",
    "function",
    "builtin_function_or_method",
    "instance",
    "_Feature"
   ],
   "window_display": false
  }
 },
 "nbformat": 4,
 "nbformat_minor": 4
}
